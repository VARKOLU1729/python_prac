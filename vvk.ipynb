{
 "cells": [
  {
   "cell_type": "code",
   "execution_count": 1,
   "metadata": {},
   "outputs": [
    {
     "name": "stdout",
     "output_type": "stream",
     "text": [
      " * Serving Flask app '__main__'\n",
      " * Debug mode: off\n"
     ]
    },
    {
     "name": "stderr",
     "output_type": "stream",
     "text": [
      "\u001b[31m\u001b[1mWARNING: This is a development server. Do not use it in a production deployment. Use a production WSGI server instead.\u001b[0m\n",
      " * Running on http://127.0.0.1:5000\n",
      "\u001b[33mPress CTRL+C to quit\u001b[0m\n",
      "127.0.0.1 - - [01/Feb/2024 01:23:58] \"GET / HTTP/1.1\" 200 -\n",
      "127.0.0.1 - - [01/Feb/2024 01:23:58] \"\u001b[33mGET /favicon.ico HTTP/1.1\u001b[0m\" 404 -\n"
     ]
    }
   ],
   "source": [
    "import flask as f\n",
    "\n",
    "app = f.Flask(__name__)\n",
    "\n",
    "@app.route(\"/\")\n",
    "def vij():\n",
    "    dic = {1:\"vijay\"}\n",
    "    return f.render_template(\"index.html\",word=str(dic))\n",
    "\n",
    "if __name__ == \"__main__\":\n",
    "    app.run()"
   ]
  },
  {
   "cell_type": "code",
   "execution_count": 3,
   "metadata": {},
   "outputs": [
    {
     "name": "stdout",
     "output_type": "stream",
     "text": [
      "100\n",
      "1\n"
     ]
    }
   ],
   "source": [
    "class v:\n",
    "    class_variable = 0\n",
    "    def __init__(self, data):\n",
    "        self.instance_variable = data\n",
    "\n",
    "    @classmethod\n",
    "    def method_1(cls):\n",
    "        cls.class_variable = 1\n",
    "    \n",
    "\n",
    "if __name__ == \"__main__\":\n",
    "    obj =  v(100)\n",
    "    print(obj.instance_variable)\n",
    "    obj.method_1()\n",
    "    print(obj.class_variable)"
   ]
  },
  {
   "cell_type": "markdown",
   "metadata": {},
   "source": [
    "Decorator"
   ]
  },
  {
   "cell_type": "code",
   "execution_count": 5,
   "metadata": {},
   "outputs": [
    {
     "name": "stdout",
     "output_type": "stream",
     "text": [
      "entered fun3\n",
      "called fun\n",
      "exited fun3\n"
     ]
    }
   ],
   "source": [
    "def fun1(fun2):\n",
    "    def fun3():\n",
    "        print('entered fun3')\n",
    "        fun2()\n",
    "        print('exited fun3')\n",
    "    return fun3\n",
    "\n",
    "def fun():\n",
    "    print(\"called fun\")\n",
    "\n",
    "x = fun1(fun)\n",
    "x()"
   ]
  },
  {
   "cell_type": "code",
   "execution_count": 6,
   "metadata": {},
   "outputs": [
    {
     "name": "stdout",
     "output_type": "stream",
     "text": [
      "entered fun3\n",
      "called fun\n",
      "exited fun3\n"
     ]
    }
   ],
   "source": [
    "def fun1(fun2):\n",
    "    def fun3():\n",
    "        print('entered fun3')\n",
    "        fun2()\n",
    "        print('exited fun3')\n",
    "    return fun3\n",
    "\n",
    "@fun1\n",
    "def fun():\n",
    "    print(\"called fun\")\n",
    "\n",
    "fun()"
   ]
  },
  {
   "cell_type": "markdown",
   "metadata": {},
   "source": [
    "when u r using decorator , it is equal to replacin fun by fun1(fun)"
   ]
  },
  {
   "cell_type": "code",
   "execution_count": 9,
   "metadata": {},
   "outputs": [
    {
     "name": "stdout",
     "output_type": "stream",
     "text": [
      "1\n",
      "2\n"
     ]
    }
   ],
   "source": [
    "a = [1,2,3,4]\n",
    "\n",
    "it = iter(a)\n",
    "\n",
    "print(next(it))\n",
    "print(next(it))"
   ]
  },
  {
   "cell_type": "markdown",
   "metadata": {},
   "source": [
    "Exception Handling"
   ]
  },
  {
   "cell_type": "code",
   "execution_count": 13,
   "metadata": {},
   "outputs": [
    {
     "name": "stdout",
     "output_type": "stream",
     "text": [
      "1/0 =  division by zero error\n"
     ]
    }
   ],
   "source": [
    "a = int(input(\"enter a\"))\n",
    "b = int(input(\"enter b\"))\n",
    "\n",
    "try:\n",
    "    print(f\"{a}/{b} = \" , a/b)\n",
    "except Exception as e:\n",
    "    print(f\"{a}/{b} = \", e, \"error\")"
   ]
  },
  {
   "cell_type": "code",
   "execution_count": null,
   "metadata": {},
   "outputs": [],
   "source": []
  }
 ],
 "metadata": {
  "kernelspec": {
   "display_name": "Python 3",
   "language": "python",
   "name": "python3"
  },
  "language_info": {
   "codemirror_mode": {
    "name": "ipython",
    "version": 3
   },
   "file_extension": ".py",
   "mimetype": "text/x-python",
   "name": "python",
   "nbconvert_exporter": "python",
   "pygments_lexer": "ipython3",
   "version": "3.9.7"
  }
 },
 "nbformat": 4,
 "nbformat_minor": 2
}
